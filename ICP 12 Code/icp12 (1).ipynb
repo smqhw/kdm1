{
  "nbformat": 4,
  "nbformat_minor": 0,
  "metadata": {
    "colab": {
      "name": "icp12.ipynb",
      "provenance": []
    },
    "kernelspec": {
      "name": "python3",
      "display_name": "Python 3"
    },
    "language_info": {
      "name": "python"
    },
    "accelerator": "GPU"
  },
  "cells": [
    {
      "cell_type": "code",
      "metadata": {
        "id": "CZ56ke-kLmYJ"
      },
      "source": [
        "import math\n",
        "import matplotlib.pyplot as plt\n",
        "import keras\n",
        "import pandas as pd\n",
        "import numpy as np\n",
        "from keras.models import Sequential\n",
        "from keras.layers import Dense\n",
        "from keras.layers import LSTM, BatchNormalization\n",
        "from keras.layers import Dropout\n",
        "from keras.layers import *\n",
        "from sklearn.preprocessing import MinMaxScaler\n",
        "from sklearn.metrics import mean_squared_error\n",
        "from sklearn.metrics import mean_absolute_error\n",
        "from sklearn.model_selection import train_test_split\n",
        "from keras.callbacks import EarlyStopping"
      ],
      "execution_count": 16,
      "outputs": []
    },
    {
      "cell_type": "code",
      "metadata": {
        "colab": {
          "base_uri": "https://localhost:8080/",
          "height": 204
        },
        "id": "2v-4tb719Q0j",
        "outputId": "35b6a4a7-38ac-4ffb-fa2d-df8efdf7180f"
      },
      "source": [
        "df=pd.read_csv(\"TSLA.csv\")\n",
        "df.shape\n",
        "df.head(5)"
      ],
      "execution_count": 17,
      "outputs": [
        {
          "output_type": "execute_result",
          "data": {
            "text/html": [
              "<div>\n",
              "<style scoped>\n",
              "    .dataframe tbody tr th:only-of-type {\n",
              "        vertical-align: middle;\n",
              "    }\n",
              "\n",
              "    .dataframe tbody tr th {\n",
              "        vertical-align: top;\n",
              "    }\n",
              "\n",
              "    .dataframe thead th {\n",
              "        text-align: right;\n",
              "    }\n",
              "</style>\n",
              "<table border=\"1\" class=\"dataframe\">\n",
              "  <thead>\n",
              "    <tr style=\"text-align: right;\">\n",
              "      <th></th>\n",
              "      <th>Date</th>\n",
              "      <th>Open</th>\n",
              "      <th>High</th>\n",
              "      <th>Low</th>\n",
              "      <th>Close</th>\n",
              "      <th>Adj Close</th>\n",
              "      <th>Volume</th>\n",
              "    </tr>\n",
              "  </thead>\n",
              "  <tbody>\n",
              "    <tr>\n",
              "      <th>0</th>\n",
              "      <td>04/27/20</td>\n",
              "      <td>147.522003</td>\n",
              "      <td>159.897995</td>\n",
              "      <td>147.000000</td>\n",
              "      <td>159.750000</td>\n",
              "      <td>159.750000</td>\n",
              "      <td>103407000</td>\n",
              "    </tr>\n",
              "    <tr>\n",
              "      <th>1</th>\n",
              "      <td>04/28/20</td>\n",
              "      <td>159.128006</td>\n",
              "      <td>161.000000</td>\n",
              "      <td>151.337997</td>\n",
              "      <td>153.824005</td>\n",
              "      <td>153.824005</td>\n",
              "      <td>76110000</td>\n",
              "    </tr>\n",
              "    <tr>\n",
              "      <th>2</th>\n",
              "      <td>04/29/20</td>\n",
              "      <td>158.033997</td>\n",
              "      <td>160.639999</td>\n",
              "      <td>156.632004</td>\n",
              "      <td>160.102005</td>\n",
              "      <td>160.102005</td>\n",
              "      <td>81080000</td>\n",
              "    </tr>\n",
              "    <tr>\n",
              "      <th>3</th>\n",
              "      <td>04/30/20</td>\n",
              "      <td>171.037994</td>\n",
              "      <td>173.964005</td>\n",
              "      <td>152.699997</td>\n",
              "      <td>156.376007</td>\n",
              "      <td>156.376007</td>\n",
              "      <td>142359500</td>\n",
              "    </tr>\n",
              "    <tr>\n",
              "      <th>4</th>\n",
              "      <td>05/01/20</td>\n",
              "      <td>151.000000</td>\n",
              "      <td>154.554001</td>\n",
              "      <td>136.608002</td>\n",
              "      <td>140.264008</td>\n",
              "      <td>140.264008</td>\n",
              "      <td>162659000</td>\n",
              "    </tr>\n",
              "  </tbody>\n",
              "</table>\n",
              "</div>"
            ],
            "text/plain": [
              "       Date        Open        High  ...       Close   Adj Close     Volume\n",
              "0  04/27/20  147.522003  159.897995  ...  159.750000  159.750000  103407000\n",
              "1  04/28/20  159.128006  161.000000  ...  153.824005  153.824005   76110000\n",
              "2  04/29/20  158.033997  160.639999  ...  160.102005  160.102005   81080000\n",
              "3  04/30/20  171.037994  173.964005  ...  156.376007  156.376007  142359500\n",
              "4  05/01/20  151.000000  154.554001  ...  140.264008  140.264008  162659000\n",
              "\n",
              "[5 rows x 7 columns]"
            ]
          },
          "metadata": {
            "tags": []
          },
          "execution_count": 17
        }
      ]
    },
    {
      "cell_type": "code",
      "metadata": {
        "id": "Lu4Nmf8Q_k7Y"
      },
      "source": [
        "training_set = df.iloc[:251, 1:2].values\n",
        "test_set = df.iloc[251:, 1:2].values"
      ],
      "execution_count": 18,
      "outputs": []
    },
    {
      "cell_type": "code",
      "metadata": {
        "colab": {
          "base_uri": "https://localhost:8080/",
          "height": 204
        },
        "id": "C3388ahBL00d",
        "outputId": "3d957804-9139-41a8-e6f0-93b75ae6f02c"
      },
      "source": [
        "df.iloc[:251, 1:2].head()"
      ],
      "execution_count": 19,
      "outputs": [
        {
          "output_type": "execute_result",
          "data": {
            "text/html": [
              "<div>\n",
              "<style scoped>\n",
              "    .dataframe tbody tr th:only-of-type {\n",
              "        vertical-align: middle;\n",
              "    }\n",
              "\n",
              "    .dataframe tbody tr th {\n",
              "        vertical-align: top;\n",
              "    }\n",
              "\n",
              "    .dataframe thead th {\n",
              "        text-align: right;\n",
              "    }\n",
              "</style>\n",
              "<table border=\"1\" class=\"dataframe\">\n",
              "  <thead>\n",
              "    <tr style=\"text-align: right;\">\n",
              "      <th></th>\n",
              "      <th>Open</th>\n",
              "    </tr>\n",
              "  </thead>\n",
              "  <tbody>\n",
              "    <tr>\n",
              "      <th>0</th>\n",
              "      <td>147.522003</td>\n",
              "    </tr>\n",
              "    <tr>\n",
              "      <th>1</th>\n",
              "      <td>159.128006</td>\n",
              "    </tr>\n",
              "    <tr>\n",
              "      <th>2</th>\n",
              "      <td>158.033997</td>\n",
              "    </tr>\n",
              "    <tr>\n",
              "      <th>3</th>\n",
              "      <td>171.037994</td>\n",
              "    </tr>\n",
              "    <tr>\n",
              "      <th>4</th>\n",
              "      <td>151.000000</td>\n",
              "    </tr>\n",
              "  </tbody>\n",
              "</table>\n",
              "</div>"
            ],
            "text/plain": [
              "         Open\n",
              "0  147.522003\n",
              "1  159.128006\n",
              "2  158.033997\n",
              "3  171.037994\n",
              "4  151.000000"
            ]
          },
          "metadata": {
            "tags": []
          },
          "execution_count": 19
        }
      ]
    },
    {
      "cell_type": "code",
      "metadata": {
        "colab": {
          "base_uri": "https://localhost:8080/"
        },
        "id": "wzCuffZ5LvMX",
        "outputId": "3f7e4c43-d785-45c8-d607-8827b3966374"
      },
      "source": [
        "df.shape"
      ],
      "execution_count": 20,
      "outputs": [
        {
          "output_type": "execute_result",
          "data": {
            "text/plain": [
              "(251, 7)"
            ]
          },
          "metadata": {
            "tags": []
          },
          "execution_count": 20
        }
      ]
    },
    {
      "cell_type": "code",
      "metadata": {
        "colab": {
          "base_uri": "https://localhost:8080/"
        },
        "id": "ni1ck9tw_xuX",
        "outputId": "e75ebe3e-2da7-4b7e-e934-87cdfc1a8f9b"
      },
      "source": [
        "# Feature Scaling\n",
        "sc = MinMaxScaler(feature_range = (0, 1))\n",
        "training_set_scaled = sc.fit_transform(training_set)\n",
        "# Creating a data structure with 60 time-steps and 1 output\n",
        "X_train = []\n",
        "y_train = []\n",
        "for i in range(60, 251):\n",
        "    X_train.append(training_set_scaled[i-60:i, 0])\n",
        "    y_train.append(training_set_scaled[i, 0])\n",
        "X_train, y_train = np.array(X_train), np.array(y_train)\n",
        "X_train = np.reshape(X_train, (X_train.shape[0], X_train.shape[1], 1))\n",
        "X_train.shape\n"
      ],
      "execution_count": 21,
      "outputs": [
        {
          "output_type": "execute_result",
          "data": {
            "text/plain": [
              "(191, 60, 1)"
            ]
          },
          "metadata": {
            "tags": []
          },
          "execution_count": 21
        }
      ]
    },
    {
      "cell_type": "code",
      "metadata": {
        "colab": {
          "base_uri": "https://localhost:8080/"
        },
        "id": "3hVWTvReB-V7",
        "outputId": "ba7f8f98-62b3-41d0-d16a-784c4f0d2daa"
      },
      "source": [
        "model = Sequential()\n",
        "#Adding the first LSTM layer and some Dropout regularisation\n",
        "model.add(LSTM(units = 50, return_sequences = True, input_shape = (X_train.shape[1], 1)))\n",
        "model.add(Dropout(0.2))\n",
        "# Adding a second LSTM layer and some Dropout regularisation\n",
        "model.add(LSTM(units = 50, return_sequences = True))\n",
        "model.add(Dropout(0.2))\n",
        "# Adding a third LSTM layer and some Dropout regularisation\n",
        "model.add(LSTM(units = 50, return_sequences = True))\n",
        "model.add(Dropout(0.2))\n",
        "# Adding a fourth LSTM layer and some Dropout regularisation\n",
        "model.add(LSTM(units = 50))\n",
        "model.add(Dropout(0.2))\n",
        "# Adding the output layer\n",
        "model.add(Dense(units = 1))\n",
        "\n",
        "# Compiling the RNN\n",
        "model.compile(optimizer = 'adam', loss = 'mean_squared_error')\n",
        "\n",
        "# Fitting the RNN to the Training set\n",
        "model.fit(X_train, y_train, epochs =25, batch_size = 32)"
      ],
      "execution_count": 7,
      "outputs": [
        {
          "output_type": "stream",
          "text": [
            "Epoch 1/25\n",
            "6/6 [==============================] - 36s 19ms/step - loss: 0.2538\n",
            "Epoch 2/25\n",
            "6/6 [==============================] - 0s 19ms/step - loss: 0.0757\n",
            "Epoch 3/25\n",
            "6/6 [==============================] - 0s 16ms/step - loss: 0.0534\n",
            "Epoch 4/25\n",
            "6/6 [==============================] - 0s 15ms/step - loss: 0.0226\n",
            "Epoch 5/25\n",
            "6/6 [==============================] - 0s 14ms/step - loss: 0.0241\n",
            "Epoch 6/25\n",
            "6/6 [==============================] - 0s 13ms/step - loss: 0.0186\n",
            "Epoch 7/25\n",
            "6/6 [==============================] - 0s 13ms/step - loss: 0.0170\n",
            "Epoch 8/25\n",
            "6/6 [==============================] - 0s 14ms/step - loss: 0.0177\n",
            "Epoch 9/25\n",
            "6/6 [==============================] - 0s 16ms/step - loss: 0.0142\n",
            "Epoch 10/25\n",
            "6/6 [==============================] - 0s 12ms/step - loss: 0.0165\n",
            "Epoch 11/25\n",
            "6/6 [==============================] - 0s 12ms/step - loss: 0.0151\n",
            "Epoch 12/25\n",
            "6/6 [==============================] - 0s 14ms/step - loss: 0.0149\n",
            "Epoch 13/25\n",
            "6/6 [==============================] - 0s 14ms/step - loss: 0.0150\n",
            "Epoch 14/25\n",
            "6/6 [==============================] - 0s 14ms/step - loss: 0.0151\n",
            "Epoch 15/25\n",
            "6/6 [==============================] - 0s 13ms/step - loss: 0.0142\n",
            "Epoch 16/25\n",
            "6/6 [==============================] - 0s 15ms/step - loss: 0.0124\n",
            "Epoch 17/25\n",
            "6/6 [==============================] - 0s 14ms/step - loss: 0.0118\n",
            "Epoch 18/25\n",
            "6/6 [==============================] - 0s 14ms/step - loss: 0.0145\n",
            "Epoch 19/25\n",
            "6/6 [==============================] - 0s 13ms/step - loss: 0.0118\n",
            "Epoch 20/25\n",
            "6/6 [==============================] - 0s 12ms/step - loss: 0.0130\n",
            "Epoch 21/25\n",
            "6/6 [==============================] - 0s 13ms/step - loss: 0.0105\n",
            "Epoch 22/25\n",
            "6/6 [==============================] - 0s 13ms/step - loss: 0.0111\n",
            "Epoch 23/25\n",
            "6/6 [==============================] - 0s 13ms/step - loss: 0.0134\n",
            "Epoch 24/25\n",
            "6/6 [==============================] - 0s 13ms/step - loss: 0.0118\n",
            "Epoch 25/25\n",
            "6/6 [==============================] - 0s 13ms/step - loss: 0.0110\n"
          ],
          "name": "stdout"
        },
        {
          "output_type": "execute_result",
          "data": {
            "text/plain": [
              "<tensorflow.python.keras.callbacks.History at 0x7f17ffd0b450>"
            ]
          },
          "metadata": {
            "tags": []
          },
          "execution_count": 7
        }
      ]
    },
    {
      "cell_type": "code",
      "metadata": {
        "colab": {
          "base_uri": "https://localhost:8080/"
        },
        "id": "ZaJnsvo9K2V_",
        "outputId": "de4fdf7a-9cb9-424d-fdd4-90600ce218c8"
      },
      "source": [
        "X_train.shape"
      ],
      "execution_count": 22,
      "outputs": [
        {
          "output_type": "execute_result",
          "data": {
            "text/plain": [
              "(191, 60, 1)"
            ]
          },
          "metadata": {
            "tags": []
          },
          "execution_count": 22
        }
      ]
    },
    {
      "cell_type": "code",
      "metadata": {
        "colab": {
          "base_uri": "https://localhost:8080/"
        },
        "id": "cHFB3eHkLBqd",
        "outputId": "84b549b9-8dc4-4128-fd49-306bffc7e499"
      },
      "source": [
        "y_train.shape\n"
      ],
      "execution_count": 23,
      "outputs": [
        {
          "output_type": "execute_result",
          "data": {
            "text/plain": [
              "(191,)"
            ]
          },
          "metadata": {
            "tags": []
          },
          "execution_count": 23
        }
      ]
    },
    {
      "cell_type": "code",
      "metadata": {
        "colab": {
          "base_uri": "https://localhost:8080/"
        },
        "id": "M0jYWaMoDR5q",
        "outputId": "4053d1ae-057a-4278-e362-5fa8f7bf54dc"
      },
      "source": [
        "# Getting the predicted stock \n",
        "dataset_train = df.iloc[:200, 1:2]\n",
        "dataset_test = df.iloc[200:, 1:2]\n",
        "dataset_total = pd.concat((dataset_train, dataset_test), axis = 0)\n",
        "inputs = dataset_total[len(dataset_total) - len(dataset_test) - 50:].values\n",
        "inputs = inputs.reshape(-1,1)\n",
        "inputs = sc.transform(inputs)\n",
        "X_test = []\n",
        "for i in range(50, 101):\n",
        "    X_test.append(inputs[i-50:i, 0])\n",
        "X_test = np.array(X_test)\n",
        "X_test = np.reshape(X_test, (X_test.shape[0], X_test.shape[1], 1))\n",
        "print(X_test.shape)\n"
      ],
      "execution_count": 25,
      "outputs": [
        {
          "output_type": "stream",
          "text": [
            "(51, 50, 1)\n"
          ],
          "name": "stdout"
        }
      ]
    },
    {
      "cell_type": "code",
      "metadata": {
        "colab": {
          "base_uri": "https://localhost:8080/"
        },
        "id": "t4qkBSzGLqZy",
        "outputId": "d3c3b88a-f34a-44f8-8a9f-d73447ffcd02"
      },
      "source": [
        "dataset_train.shape"
      ],
      "execution_count": 26,
      "outputs": [
        {
          "output_type": "execute_result",
          "data": {
            "text/plain": [
              "(200, 1)"
            ]
          },
          "metadata": {
            "tags": []
          },
          "execution_count": 26
        }
      ]
    },
    {
      "cell_type": "code",
      "metadata": {
        "id": "uT3v4WExh8CC"
      },
      "source": [
        "predicted_stock_price = model.predict(X_test)\n",
        "predicted_stock_price = sc.inverse_transform(predicted_stock_price)"
      ],
      "execution_count": 27,
      "outputs": []
    },
    {
      "cell_type": "code",
      "metadata": {
        "colab": {
          "base_uri": "https://localhost:8080/",
          "height": 295
        },
        "id": "Z4QwKBc8FdlG",
        "outputId": "39b6da22-38f6-4cf0-d1fb-9b877771fe1e"
      },
      "source": [
        "# Visualising the results\n",
        "plt.plot(df.loc[200:, 'Date'],dataset_test.values, color = 'red', label = 'Real TESLA Stock Price')\n",
        "plt.plot(df.loc[200:, 'Date'],predicted_stock_price, color = 'blue', label = 'Predicted TESLA Stock Price')\n",
        "plt.xticks(np.arange(0,50,25))\n",
        "plt.title('TESLA Stock Price Prediction')\n",
        "plt.xlabel('Time')\n",
        "plt.ylabel('TESLA Stock Price')\n",
        "plt.legend()\n",
        "plt.show()"
      ],
      "execution_count": 28,
      "outputs": [
        {
          "output_type": "display_data",
          "data": {
            "image/png": "[encoded data removed]",
            "text/plain": [
              "<Figure size 432x288 with 1 Axes>"
            ]
          },
          "metadata": {
            "tags": [],
            "needs_background": "light"
          }
        }
      ]
    }
  ]
}