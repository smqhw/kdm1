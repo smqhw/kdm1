{
  "nbformat": 4,
  "nbformat_minor": 0,
  "metadata": {
    "colab": {
      "name": "icp11.ipynb",
      "provenance": [],
      "authorship_tag": "ABX9TyMMOzkLcfG8caO6+t7MVJY+",
      "include_colab_link": true
    },
    "kernelspec": {
      "name": "python3",
      "display_name": "Python 3"
    },
    "language_info": {
      "name": "python"
    },
    "accelerator": "GPU"
  },
  "cells": [
    {
      "cell_type": "markdown",
      "metadata": {
        "id": "view-in-github",
        "colab_type": "text"
      },
      "source": [
        "<a href=\"https://colab.research.google.com/github/smqhw/kdm1/blob/main/icp11.ipynb\" target=\"_parent\"><img src=\"https://colab.research.google.com/assets/colab-badge.svg\" alt=\"Open In Colab\"/></a>"
      ]
    },
    {
      "cell_type": "code",
      "metadata": {
        "id": "iTL6ssI5Cs_M"
      },
      "source": [
        "from keras.layers import Input, Dense\n",
        "from keras.models import Model\n",
        "from keras.datasets import mnist\n",
        "from keras.datasets import cifar10\n",
        "import pandas as pd\n",
        "\n",
        "import numpy as np\n",
        "import matplotlib.pyplot as plt"
      ],
      "execution_count": 59,
      "outputs": []
    },
    {
      "cell_type": "markdown",
      "metadata": {
        "id": "VC9kkbgYtWHR"
      },
      "source": [
        "Load  MNIST handwritten digits dataset.\n",
        "There is no need to load labels because autoencoders are unsupervised.\n",
        "        \n",
        "Rescale our images from 0 – 255 to 0 – 1 and flatten them out."
      ]
    },
    {
      "cell_type": "code",
      "metadata": {
        "id": "IBz5TXOGUIE3"
      },
      "source": [
        "#Notice that we’re not loading any of the labels because autoencoders are unsupervised\n",
        "(X_train, _), (X_test, _) = cifar10.load_data()\n",
        "# rescale our images from 0 – 255 to 0 – 1 and flatten them out.\n",
        "X_train = X_train.astype('float32') / 255.\n",
        "X_test = X_test.astype('float32') / 255.\n",
        "X_train = X_train.reshape((X_train.shape[0], -1))\n",
        "X_test = X_test.reshape((X_test.shape[0], -1))"
      ],
      "execution_count": 60,
      "outputs": []
    },
    {
      "cell_type": "code",
      "metadata": {
        "colab": {
          "base_uri": "https://localhost:8080/"
        },
        "id": "_xALWsjFUepW",
        "outputId": "755ce49c-a60f-4bdc-c0f8-f1053c62ca9a"
      },
      "source": [
        "X_train.shape"
      ],
      "execution_count": 69,
      "outputs": [
        {
          "output_type": "execute_result",
          "data": {
            "text/plain": [
              "(50000, 3072)"
            ]
          },
          "metadata": {
            "tags": []
          },
          "execution_count": 69
        }
      ]
    },
    {
      "cell_type": "code",
      "metadata": {
        "colab": {
          "base_uri": "https://localhost:8080/"
        },
        "id": "dL44ksSjUjm9",
        "outputId": "9662a1d9-9983-46d4-969d-47dc93edc6e5"
      },
      "source": [
        "X_test.shape"
      ],
      "execution_count": 70,
      "outputs": [
        {
          "output_type": "execute_result",
          "data": {
            "text/plain": [
              "(10000, 3072)"
            ]
          },
          "metadata": {
            "tags": []
          },
          "execution_count": 70
        }
      ]
    },
    {
      "cell_type": "code",
      "metadata": {
        "id": "PhAcrAniUqN8"
      },
      "source": [
        "INPUT_SIZE = 3072\n",
        "ENCODING_SIZE = 64"
      ],
      "execution_count": 101,
      "outputs": []
    },
    {
      "cell_type": "markdown",
      "metadata": {
        "id": "x_pw4G76YMIO"
      },
      "source": [
        "Create autoencoder       \n",
        "Use ReLU  activation functions\n",
        "    \n",
        "create constants for our input size and our encoding size. \n",
        "reduce our input from 784 -> 512 -> 256 -> 128 -> 64, encoder path\n",
        "        \n",
        "then expand it back up 64 -> 128 -> 256 -> 512 -> 784, decoder path\n"
      ]
    },
    {
      "cell_type": "code",
      "metadata": {
        "id": "2LqRlUJlWCB-"
      },
      "source": [
        "#reduce our input from 784 -> 512 -> 256 -> 128 -> 64 (encoder path), then expand it back up 64 -> 128 -> 256 -> 512 -> 784(decoder path).\n",
        "# Also notice the relu activation function\n",
        "input_img = Input(shape=(INPUT_SIZE,))\n",
        "encoded = Dense(512, activation='relu')(input_img)\n",
        "encoded = Dense(256, activation='relu')(encoded)\n",
        "encoded = Dense(128, activation='relu')(encoded)\n",
        "encoded = Dense(ENCODING_SIZE, activation='relu')(encoded)"
      ],
      "execution_count": 95,
      "outputs": []
    },
    {
      "cell_type": "code",
      "metadata": {
        "id": "CAs-a2xzW9fP"
      },
      "source": [
        "decoded = Dense(128, activation='relu')(encoded)\n",
        "decoded = Dense(256, activation='relu')(decoded)\n",
        "decoded = Dense(512, activation='relu')(decoded)\n",
        "decoded = Dense(INPUT_SIZE, activation='relu')(decoded)"
      ],
      "execution_count": 96,
      "outputs": []
    },
    {
      "cell_type": "code",
      "metadata": {
        "id": "mDhhrnhKXH-p"
      },
      "source": [
        "autoencoder = Model(input_img, decoded)"
      ],
      "execution_count": 97,
      "outputs": []
    },
    {
      "cell_type": "code",
      "metadata": {
        "id": "cs5Z0sILXOV6"
      },
      "source": [
        "Training the model and then making the prediction\n",
        "      \n",
        "Build and train the model.\n",
        "      \n",
        "Use the ADAM optimizer and mean squared error loss (the Euclidean distance/loss) between the input and reconstruction\n",
        "\n",
        "encode and decode the test set to see how well model is performing"
      ],
      "execution_count": null,
      "outputs": []
    },
    {
      "cell_type": "code",
      "metadata": {
        "colab": {
          "base_uri": "https://localhost:8080/"
        },
        "id": "OfqopXxcXhJs",
        "outputId": "a3b5bee4-b918-486c-8bf9-becd87059581"
      },
      "source": [
        "#using ADAM optimizer and mean squared error loss (the Euclidean distance/loss) between the input and reconstruction\n",
        "autoencoder.compile(optimizer='adam', loss='mean_squared_error',)\n",
        "autoencoder.fit(X_train, X_train, epochs=20, batch_size=256, shuffle=True, validation_split=0.4)"
      ],
      "execution_count": 184,
      "outputs": [
        {
          "output_type": "stream",
          "text": [
            "Epoch 1/20\n",
            "157/157 [==============================] - 2s 9ms/step - loss: 0.0238 - val_loss: 0.0144\n",
            "Epoch 2/20\n",
            "157/157 [==============================] - 1s 8ms/step - loss: 0.0143 - val_loss: 0.0143\n",
            "Epoch 3/20\n",
            "157/157 [==============================] - 1s 8ms/step - loss: 0.0142 - val_loss: 0.0143\n",
            "Epoch 4/20\n",
            "157/157 [==============================] - 1s 7ms/step - loss: 0.0141 - val_loss: 0.0152\n",
            "Epoch 5/20\n",
            "157/157 [==============================] - 1s 7ms/step - loss: 0.0142 - val_loss: 0.0141\n",
            "Epoch 6/20\n",
            "157/157 [==============================] - 1s 7ms/step - loss: 0.0140 - val_loss: 0.0145\n",
            "Epoch 7/20\n",
            "157/157 [==============================] - 1s 8ms/step - loss: 0.0140 - val_loss: 0.0140\n",
            "Epoch 8/20\n",
            "157/157 [==============================] - 1s 7ms/step - loss: 0.0139 - val_loss: 0.0140\n",
            "Epoch 9/20\n",
            "157/157 [==============================] - 1s 8ms/step - loss: 0.0139 - val_loss: 0.0140\n",
            "Epoch 10/20\n",
            "157/157 [==============================] - 1s 7ms/step - loss: 0.0139 - val_loss: 0.0146\n",
            "Epoch 11/20\n",
            "157/157 [==============================] - 1s 7ms/step - loss: 0.0139 - val_loss: 0.0138\n",
            "Epoch 12/20\n",
            "157/157 [==============================] - 1s 7ms/step - loss: 0.0137 - val_loss: 0.0138\n",
            "Epoch 13/20\n",
            "157/157 [==============================] - 1s 7ms/step - loss: 0.0136 - val_loss: 0.0138\n",
            "Epoch 14/20\n",
            "157/157 [==============================] - 1s 7ms/step - loss: 0.0137 - val_loss: 0.0137\n",
            "Epoch 15/20\n",
            "157/157 [==============================] - 1s 7ms/step - loss: 0.0136 - val_loss: 0.0139\n",
            "Epoch 16/20\n",
            "157/157 [==============================] - 1s 8ms/step - loss: 0.0136 - val_loss: 0.0136\n",
            "Epoch 17/20\n",
            "157/157 [==============================] - 1s 8ms/step - loss: 0.0134 - val_loss: 0.0137\n",
            "Epoch 18/20\n",
            "157/157 [==============================] - 1s 7ms/step - loss: 0.0135 - val_loss: 0.0138\n",
            "Epoch 19/20\n",
            "157/157 [==============================] - 1s 8ms/step - loss: 0.0135 - val_loss: 0.0137\n",
            "Epoch 20/20\n",
            "157/157 [==============================] - 1s 8ms/step - loss: 0.0134 - val_loss: 0.0136\n"
          ],
          "name": "stdout"
        },
        {
          "output_type": "execute_result",
          "data": {
            "text/plain": [
              "<tensorflow.python.keras.callbacks.History at 0x7f229073d890>"
            ]
          },
          "metadata": {
            "tags": []
          },
          "execution_count": 184
        }
      ]
    },
    {
      "cell_type": "code",
      "metadata": {
        "id": "fU4BeKXDX4ml"
      },
      "source": [
        "#After our autoencoder has trained, we can try to encode and decode the test set to see how well our autoencoder can compress\n",
        "decoded_imgs = autoencoder.predict(X_test)"
      ],
      "execution_count": 99,
      "outputs": []
    },
    {
      "cell_type": "markdown",
      "metadata": {
        "id": "EikbkGkgYEBI"
      },
      "source": [
        "Visvualize the results"
      ]
    },
    {
      "cell_type": "code",
      "metadata": {
        "colab": {
          "base_uri": "https://localhost:8080/",
          "height": 278
        },
        "id": "WPFTgvSlYBWQ",
        "outputId": "5e7854a4-07ce-4942-baba-9e2042a30ad7"
      },
      "source": [
        "plt.figure(figsize=(20, 4))\n",
        "for i in range(10):\n",
        "# original\n",
        " plt.subplot(2, 10, i + 1)\n",
        " plt.imshow(X_test[i].reshape(32, 32, 3))\n",
        " plt.gray()\n",
        " plt.axis('off')\n",
        "       \n",
        "# reconstruction\n",
        "plt.subplot(2, 10, i + 1 + 10)\n",
        "plt.imshow(decoded_imgs[i].reshape(32, 32, 3))\n",
        "plt.gray()\n",
        "plt.axis('off')\n",
        "\n",
        "plt.tight_layout()\n",
        "plt.show()"
      ],
      "execution_count": 100,
      "outputs": [
        {
          "output_type": "stream",
          "text": [
            "Clipping input data to the valid range for imshow with RGB data ([0..1] for floats or [0..255] for integers).\n"
          ],
          "name": "stderr"
        },
        {
          "output_type": "display_data",
          "data": {
            "image/png": "[encoded data removed]",
            "text/plain": [
              "<Figure size 1440x288 with 11 Axes>"
            ]
          },
          "metadata": {
            "tags": [],
            "needs_background": "light"
          }
        }
      ]
    },
    {
      "cell_type": "markdown",
      "metadata": {
        "id": "ACWF7w5XZzXw"
      },
      "source": [
        "\"CNN \\n\",\n",
        "        \"\n",
        "        \"The Problem: MNIST digit classification\\n\",\n",
        "        \"\\t\\n\",\n",
        "        \"We’re going to tackle a classic introductory Computer Vision problem: MNIST handwritten digit classification. It’s simple: given an image, classify it as a digit\\n\",\n",
        "        \"\\t\\n\",\n",
        "        \"Each image in the MNIST dataset is 28x28 and contains a centered, grayscale digit. Our CNN will take an image and output one of 10 possible classes (one for each digit)\\n\",\n",
        "        \"\\n\",\n",
        "        \"First of all,  import all necessary packages\\n\",\n",
        "        \"\\n"
      ]
    },
    {
      "cell_type": "code",
      "metadata": {
        "id": "udNrNEbBZ8Yy"
      },
      "source": [
        "import numpy as np\n",
        "import tensorflow as tf\n",
        "from keras.datasets import mnist\n",
        "from keras.datasets import cifar100\n",
        "from keras.models import Sequential\n",
        "from keras.layers import Conv2D, MaxPooling2D, Dense, Flatten\n",
        "from keras.utils import to_categorical"
      ],
      "execution_count": 187,
      "outputs": []
    },
    {
      "cell_type": "code",
      "metadata": {
        "id": "XgKRWsFGaZXk",
        "colab": {
          "base_uri": "https://localhost:8080/"
        },
        "outputId": "0b14c2b6-1f26-496a-e40a-2870f0cd4f3c"
      },
      "source": [
        "(train_images, train_labels), (test_images, test_labels) = cifar100.load_data()"
      ],
      "execution_count": 188,
      "outputs": [
        {
          "output_type": "stream",
          "text": [
            "Downloading data from https://www.cs.toronto.edu/~kriz/cifar-100-python.tar.gz\n",
            "169009152/169001437 [==============================] - 3s 0us/step\n"
          ],
          "name": "stdout"
        }
      ]
    },
    {
      "cell_type": "markdown",
      "metadata": {
        "id": "-ca7itKaafhu"
      },
      "source": [
        "Before we begin, we’ll normalize the image pixel values from [0, 255] to [-0.5, 0.5]\\n\",\n",
        "        \"\\t \\n\",\n",
        "        \"This will  make our network easier to train (using smaller, centered values usually leads to better results). \\n\",\n",
        "        \"\\n\",\n",
        "        \"We’ll also reshape each image from (28, 28) to (28, 28, 1) because Keras requires the third dimension. (1 stands for color scheme, which is grey scale in this case)."
      ]
    },
    {
      "cell_type": "code",
      "metadata": {
        "id": "8ftX0fWZag5N"
      },
      "source": [
        "# Normalize the images.\n",
        "train_images = (train_images / 255) - 0.5\n",
        "test_images = (test_images / 255) - 0.5"
      ],
      "execution_count": 189,
      "outputs": []
    },
    {
      "cell_type": "code",
      "metadata": {
        "id": "u9yXLbkVavaY",
        "colab": {
          "base_uri": "https://localhost:8080/"
        },
        "outputId": "1d63fe55-b89d-4ff0-d988-41c7752945c1"
      },
      "source": [
        "# Reshape the images.\\n\",\n",
        "train_images =train_images.reshape(train_images.shape[0], 32, 32, 3)\n",
        "test_images = test_images.reshape(test_images.shape[0], 32, 32, 3)\n",
        "train_images = train_images.astype('float32')\n",
        "test_images = test_images.astype('float32')\n",
        "print(train_images.shape)\n",
        "test_images.shape"
      ],
      "execution_count": 190,
      "outputs": [
        {
          "output_type": "stream",
          "text": [
            "(50000, 32, 32, 3)\n"
          ],
          "name": "stdout"
        },
        {
          "output_type": "execute_result",
          "data": {
            "text/plain": [
              "(10000, 32, 32, 3)"
            ]
          },
          "metadata": {
            "tags": []
          },
          "execution_count": 190
        }
      ]
    },
    {
      "cell_type": "markdown",
      "metadata": {
        "id": "B9D-jPgBa8pa"
      },
      "source": [
        "Keras model is either built using the Sequential class, which represents a linear stack of layers, or the functional Model class, which is more customizable. \\n\",\n",
        "        \"\\n\",\n",
        "        \"We’ll be using the simpler Sequential model, since our CNN will be a linear stack of layers.\\n\",\n",
        "        \"\\n\",\n",
        "        \"num_filters, filter_size, and pool_size are self-explanatory variables that set the hyperparameters for our CNN.\\n\",\n",
        "        \"\\n\",\n",
        "        \"The first layer in any Sequential model must specify the input_shape, so we do so on Conv2D. \\n\",\n",
        "        \"\\n\",\n",
        "        \"Once this input shape is specified, Keras will automatically infer the shapes of inputs for later layers.\\n\",\n",
        "        \"\\t\\n\",\n",
        "        \"The output Softmax layer has 10 nodes, one for each class\\n\",\n",
        "        \"\\n\",\n",
        "        \"\\n\""
      ]
    },
    {
      "cell_type": "code",
      "metadata": {
        "id": "DOgsizTra_Ea"
      },
      "source": [
        "num_filters = 10\n",
        "filter_size = 3\n",
        "pool_size = 2"
      ],
      "execution_count": 191,
      "outputs": []
    },
    {
      "cell_type": "code",
      "metadata": {
        "id": "4CSuI9iAa7Rj"
      },
      "source": [
        "# Build the model.\n",
        "model = Sequential([\n",
        "Conv2D(num_filters, filter_size, input_shape=(32, 32, 3)),\n",
        "MaxPooling2D(pool_size=pool_size),\n",
        "Flatten(),\n",
        "Dense(100, activation='softmax'),\n",
        "        ])"
      ],
      "execution_count": 199,
      "outputs": []
    },
    {
      "cell_type": "markdown",
      "metadata": {
        "id": "0gtM9uprblgO"
      },
      "source": [
        "Before we can begin training, we need to configure the training process. We decide 3 key factors during the compilation step:\\n\",\n",
        "        \"\\t\\n\",\n",
        "        \"The optimizer. We’ll stick with a pretty good default: the Adam gradient-based optimizer. Keras has many other optimizers you can look into as well.\\n\",\n",
        "        \"\\n\",\n",
        "        \"The loss function. Since we’re using a Softmax output layer, we’ll use the Cross-Entropy loss. Keras distinguishes between binary_crossentropy (2 classes) and categorical_crossentropy (>2 classes), so we’ll use the latter. \\n\",\n",
        "        \"\\n\",\n",
        "        \"A list of metrics. Since this is a classification problem, we’ll just have Keras report on the accuracy metric."
      ]
    },
    {
      "cell_type": "code",
      "metadata": {
        "id": "NNLxZGm2bjPL"
      },
      "source": [
        "# Compile the model.\n",
        "model.compile(\n",
        "        'adam',\n",
        "        loss='categorical_crossentropy',\n",
        "       metrics=['accuracy'],)"
      ],
      "execution_count": 200,
      "outputs": []
    },
    {
      "cell_type": "markdown",
      "metadata": {
        "id": "h-s5Tf7bqk6D"
      },
      "source": [
        "Training a model in Keras literally consists only of calling fit() and specifying some parameters. There are a lot of possible parameters, but we’ll only supply these:\\n\",\n",
        "        \"\\n\",\n",
        "        \"The training data (images and labels), commonly known as X and Y, respectively.\\n\",\n",
        "        \"\\n\",\n",
        "        \"The number of epochs (iterations over the entire dataset) to train for.\\n\",\n",
        "        \"\\n\",\n",
        "        \"The validation data (or test data), which is used during training to periodically measure the network’s performance against data it hasn’t seen before.\\n\",\n",
        "        \"\\n\",\n",
        "        \"There’s one thing we have to be careful about:\\n\",\n",
        "        \"\\n\",\n",
        "        \"Keras expects the training targets to be 10-dimensional vectors, since there are 10 nodes in our Softmax output layer. Right now, our train_labels and test_labels arrays contain single integers representing the class for each image\\n\",\n",
        "        \"\\n\",\n",
        "        \"Conveniently, Keras has a utility method that fixes this exact issue:\\n\",\n",
        "        \"to_categorical: It turns our array of class integers into an array of one-hot vectors instead. For example, 2 would become [0, 0, 1, 0, 0, 0, 0, 0, 0, 0] (it’s zero-indexed)"
      ]
    },
    {
      "cell_type": "code",
      "metadata": {
        "id": "3VJQ9NMdqJPc",
        "colab": {
          "base_uri": "https://localhost:8080/"
        },
        "outputId": "5627bc5e-e096-4b01-aae9-91e69b88d82d"
      },
      "source": [
        "# Train the model.\n",
        "model.fit(\n",
        "          train_images,\n",
        "          to_categorical(train_labels),\n",
        "          epochs=15,\n",
        "          validation_data=(test_images, to_categorical(test_labels)),\n",
        "        )"
      ],
      "execution_count": 201,
      "outputs": [
        {
          "output_type": "stream",
          "text": [
            "Epoch 1/15\n",
            "1563/1563 [==============================] - 6s 3ms/step - loss: 3.8388 - accuracy: 0.1396 - val_loss: 3.3494 - val_accuracy: 0.2318\n",
            "Epoch 2/15\n",
            "1563/1563 [==============================] - 5s 3ms/step - loss: 3.1305 - accuracy: 0.2740 - val_loss: 3.2350 - val_accuracy: 0.2548\n",
            "Epoch 3/15\n",
            "1563/1563 [==============================] - 5s 3ms/step - loss: 2.8265 - accuracy: 0.3345 - val_loss: 3.1539 - val_accuracy: 0.2633\n",
            "Epoch 4/15\n",
            "1563/1563 [==============================] - 5s 3ms/step - loss: 2.6163 - accuracy: 0.3776 - val_loss: 3.1489 - val_accuracy: 0.2730\n",
            "Epoch 5/15\n",
            "1563/1563 [==============================] - 5s 3ms/step - loss: 2.4434 - accuracy: 0.4118 - val_loss: 3.1323 - val_accuracy: 0.2757\n",
            "Epoch 6/15\n",
            "1563/1563 [==============================] - 5s 3ms/step - loss: 2.3353 - accuracy: 0.4328 - val_loss: 3.1552 - val_accuracy: 0.2747\n",
            "Epoch 7/15\n",
            "1563/1563 [==============================] - 5s 3ms/step - loss: 2.2242 - accuracy: 0.4570 - val_loss: 3.1844 - val_accuracy: 0.2760\n",
            "Epoch 8/15\n",
            "1563/1563 [==============================] - 5s 3ms/step - loss: 2.1372 - accuracy: 0.4786 - val_loss: 3.2043 - val_accuracy: 0.2779\n",
            "Epoch 9/15\n",
            "1563/1563 [==============================] - 5s 3ms/step - loss: 2.0375 - accuracy: 0.5027 - val_loss: 3.2440 - val_accuracy: 0.2750\n",
            "Epoch 10/15\n",
            "1563/1563 [==============================] - 5s 3ms/step - loss: 1.9487 - accuracy: 0.5207 - val_loss: 3.2957 - val_accuracy: 0.2801\n",
            "Epoch 11/15\n",
            "1563/1563 [==============================] - 5s 3ms/step - loss: 1.8847 - accuracy: 0.5340 - val_loss: 3.3527 - val_accuracy: 0.2751\n",
            "Epoch 12/15\n",
            "1563/1563 [==============================] - 5s 3ms/step - loss: 1.8112 - accuracy: 0.5522 - val_loss: 3.3967 - val_accuracy: 0.2757\n",
            "Epoch 13/15\n",
            "1563/1563 [==============================] - 5s 3ms/step - loss: 1.7276 - accuracy: 0.5727 - val_loss: 3.4568 - val_accuracy: 0.2694\n",
            "Epoch 14/15\n",
            "1563/1563 [==============================] - 5s 3ms/step - loss: 1.6779 - accuracy: 0.5842 - val_loss: 3.5132 - val_accuracy: 0.2695\n",
            "Epoch 15/15\n",
            "1563/1563 [==============================] - 5s 3ms/step - loss: 1.6374 - accuracy: 0.5946 - val_loss: 3.5639 - val_accuracy: 0.2696\n"
          ],
          "name": "stdout"
        },
        {
          "output_type": "execute_result",
          "data": {
            "text/plain": [
              "<tensorflow.python.keras.callbacks.History at 0x7f226ddaba90>"
            ]
          },
          "metadata": {
            "tags": []
          },
          "execution_count": 201
        }
      ]
    },
    {
      "cell_type": "markdown",
      "metadata": {
        "id": "BooVe4COrBbb"
      },
      "source": [
        "  \"We pass an array of inputs to predict() and it returns an array of outputs.\\n\",\n",
        "        \"\\n\",\n",
        "        \"The output of our network is 10 probabilities (because of softmax), so we’ll use np.argmax() to turn those into actual digits."
      ]
    },
    {
      "cell_type": "code",
      "metadata": {
        "id": "n_DTLFXLrEh1"
      },
      "source": [
        "# Predict on the first 5 test images.\n",
        "predictions = model.predict(test_images[:5])"
      ],
      "execution_count": 202,
      "outputs": []
    },
    {
      "cell_type": "code",
      "metadata": {
        "colab": {
          "base_uri": "https://localhost:8080/"
        },
        "id": "ASK87XyIrP8-",
        "outputId": "0888e50a-fd7a-4cb0-f185-c32ce769c8fb"
      },
      "source": [
        "# Print our model's predictions.\n",
        "print(\"These are the model predictions :\")\n",
        "print(np.argmax(predictions, axis=1)) \n",
        "print(\"\\n\")"
      ],
      "execution_count": 203,
      "outputs": [
        {
          "output_type": "stream",
          "text": [
            "These are the model predictions :\n",
            "[79 33 73 66 71]\n",
            "\n",
            "\n"
          ],
          "name": "stdout"
        }
      ]
    },
    {
      "cell_type": "code",
      "metadata": {
        "colab": {
          "base_uri": "https://localhost:8080/"
        },
        "id": "WEJuY1WQreAs",
        "outputId": "f4846544-5152-4ac1-faf8-4f6ede6d3c66"
      },
      "source": [
        "# Check our predictions against the ground truths.\n",
        "print(\"These are the corresponding labels :\")\n",
        "print(test_labels[:5]) "
      ],
      "execution_count": 204,
      "outputs": [
        {
          "output_type": "stream",
          "text": [
            "These are the corresponding labels :\n",
            "[[49]\n",
            " [33]\n",
            " [72]\n",
            " [51]\n",
            " [71]]\n"
          ],
          "name": "stdout"
        }
      ]
    }
  ]
}